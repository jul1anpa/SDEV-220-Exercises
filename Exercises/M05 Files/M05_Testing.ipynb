{
 "cells": [
  {
   "cell_type": "markdown",
   "metadata": {},
   "source": [
    "Test an assertion on the sum function\n",
    "\n",
    "This will not raise an error as 1 + 2 + 3 == 6"
   ]
  },
  {
   "cell_type": "code",
   "execution_count": 1,
   "metadata": {},
   "outputs": [],
   "source": [
    "assert sum([1, 2, 3]) == 6, \"Should be 6\""
   ]
  },
  {
   "cell_type": "markdown",
   "metadata": {},
   "source": [
    "Test an assertion on the sum function\n",
    "\n",
    "This will raise an error as 1 + 1 + 1 != 6"
   ]
  },
  {
   "cell_type": "code",
   "execution_count": 2,
   "metadata": {},
   "outputs": [
    {
     "ename": "AssertionError",
     "evalue": "Should be 6",
     "output_type": "error",
     "traceback": [
      "\u001b[0;31m---------------------------------------------------------------------------\u001b[0m",
      "\u001b[0;31mAssertionError\u001b[0m                            Traceback (most recent call last)",
      "\u001b[1;32m/Users/julianpayne/Desktop/SDEV 220/Programming Assignments/SDEV-220-Exercises/Exercises/M05_Testing.ipynb Cell 2\u001b[0m line \u001b[0;36m1\n\u001b[0;32m----> <a href='vscode-notebook-cell:/Users/julianpayne/Desktop/SDEV%20220/Programming%20Assignments/SDEV-220-Exercises/Exercises/M05_Testing.ipynb#W1sZmlsZQ%3D%3D?line=0'>1</a>\u001b[0m \u001b[39massert\u001b[39;00m \u001b[39msum\u001b[39m([\u001b[39m1\u001b[39m, \u001b[39m1\u001b[39m, \u001b[39m1\u001b[39m]) \u001b[39m==\u001b[39m \u001b[39m6\u001b[39m, \u001b[39m\"\u001b[39m\u001b[39mShould be 6\u001b[39m\u001b[39m\"\u001b[39m\n",
      "\u001b[0;31mAssertionError\u001b[0m: Should be 6"
     ]
    }
   ],
   "source": [
    "assert sum([1, 1, 1]) == 6, \"Should be 6\""
   ]
  },
  {
   "cell_type": "markdown",
   "metadata": {},
   "source": [
    "It is best practice to place test cases into a function within a file that is seperate from the main source code"
   ]
  },
  {
   "cell_type": "code",
   "execution_count": 6,
   "metadata": {},
   "outputs": [
    {
     "name": "stdout",
     "output_type": "stream",
     "text": [
      "Everything passed!\n"
     ]
    }
   ],
   "source": [
    "# In a file called test_sum.py\n",
    "\n",
    "def test_sum():\n",
    "    assert sum([1, 2, 3]) == 6, \"Should be 6\"\n",
    "\n",
    "if __name__ == \"__main__\":\n",
    "    test_sum()\n",
    "    print(\"Everything passed!\")"
   ]
  },
  {
   "cell_type": "markdown",
   "metadata": {},
   "source": [
    "The sum function accepts any iterable as its first argument\n",
    "\n",
    "You can test this function using another iterable such as a set\n",
    "\n",
    "This test function should raise an AssertionError"
   ]
  },
  {
   "cell_type": "code",
   "execution_count": 7,
   "metadata": {},
   "outputs": [
    {
     "ename": "AssertionError",
     "evalue": "Should be 6",
     "output_type": "error",
     "traceback": [
      "\u001b[0;31m---------------------------------------------------------------------------\u001b[0m",
      "\u001b[0;31mAssertionError\u001b[0m                            Traceback (most recent call last)",
      "\u001b[1;32m/Users/julianpayne/Desktop/SDEV 220/Programming Assignments/SDEV-220-Exercises/Exercises/M05_Testing.ipynb Cell 8\u001b[0m line \u001b[0;36m7\n\u001b[1;32m      <a href='vscode-notebook-cell:/Users/julianpayne/Desktop/SDEV%20220/Programming%20Assignments/SDEV-220-Exercises/Exercises/M05_Testing.ipynb#X10sZmlsZQ%3D%3D?line=3'>4</a>\u001b[0m     \u001b[39massert\u001b[39;00m \u001b[39msum\u001b[39m((\u001b[39m1\u001b[39m, \u001b[39m2\u001b[39m, \u001b[39m2\u001b[39m)) \u001b[39m==\u001b[39m \u001b[39m6\u001b[39m, \u001b[39m\"\u001b[39m\u001b[39mShould be 6\u001b[39m\u001b[39m\"\u001b[39m\n\u001b[1;32m      <a href='vscode-notebook-cell:/Users/julianpayne/Desktop/SDEV%20220/Programming%20Assignments/SDEV-220-Exercises/Exercises/M05_Testing.ipynb#X10sZmlsZQ%3D%3D?line=5'>6</a>\u001b[0m \u001b[39mif\u001b[39;00m \u001b[39m__name__\u001b[39m \u001b[39m==\u001b[39m \u001b[39m\"\u001b[39m\u001b[39m__main__\u001b[39m\u001b[39m\"\u001b[39m:\n\u001b[0;32m----> <a href='vscode-notebook-cell:/Users/julianpayne/Desktop/SDEV%20220/Programming%20Assignments/SDEV-220-Exercises/Exercises/M05_Testing.ipynb#X10sZmlsZQ%3D%3D?line=6'>7</a>\u001b[0m     test_sum_tuple()\n\u001b[1;32m      <a href='vscode-notebook-cell:/Users/julianpayne/Desktop/SDEV%20220/Programming%20Assignments/SDEV-220-Exercises/Exercises/M05_Testing.ipynb#X10sZmlsZQ%3D%3D?line=7'>8</a>\u001b[0m     \u001b[39mprint\u001b[39m(\u001b[39m\"\u001b[39m\u001b[39mEverything passed!\u001b[39m\u001b[39m\"\u001b[39m)\n",
      "\u001b[1;32m/Users/julianpayne/Desktop/SDEV 220/Programming Assignments/SDEV-220-Exercises/Exercises/M05_Testing.ipynb Cell 8\u001b[0m line \u001b[0;36m4\n\u001b[1;32m      <a href='vscode-notebook-cell:/Users/julianpayne/Desktop/SDEV%20220/Programming%20Assignments/SDEV-220-Exercises/Exercises/M05_Testing.ipynb#X10sZmlsZQ%3D%3D?line=2'>3</a>\u001b[0m \u001b[39mdef\u001b[39;00m \u001b[39mtest_sum_tuple\u001b[39m():\n\u001b[0;32m----> <a href='vscode-notebook-cell:/Users/julianpayne/Desktop/SDEV%20220/Programming%20Assignments/SDEV-220-Exercises/Exercises/M05_Testing.ipynb#X10sZmlsZQ%3D%3D?line=3'>4</a>\u001b[0m     \u001b[39massert\u001b[39;00m \u001b[39msum\u001b[39m((\u001b[39m1\u001b[39m, \u001b[39m2\u001b[39m, \u001b[39m2\u001b[39m)) \u001b[39m==\u001b[39m \u001b[39m6\u001b[39m, \u001b[39m\"\u001b[39m\u001b[39mShould be 6\u001b[39m\u001b[39m\"\u001b[39m\n",
      "\u001b[0;31mAssertionError\u001b[0m: Should be 6"
     ]
    }
   ],
   "source": [
    "# In a file called test_sum2.py\n",
    "\n",
    "def test_sum_tuple():\n",
    "    assert sum((1, 2, 2)) == 6, \"Should be 6\"\n",
    "\n",
    "if __name__ == \"__main__\":\n",
    "    test_sum_tuple()\n",
    "    print(\"Everything passed!\")"
   ]
  },
  {
   "cell_type": "markdown",
   "metadata": {},
   "source": [
    "#### In this next section I will experiment with creating test cases outside of this Jupyter notebook"
   ]
  },
  {
   "cell_type": "markdown",
   "metadata": {},
   "source": [
    "There are various test runners that can be used in a Python file via imported libraries\n",
    "\n",
    "In order to use the unittest library, I had to create a seperate file called test_case_1.py\n",
    "\n",
    "In test_case_1.py, I will use the unittest runner and mimic the previous test cases on the sum function"
   ]
  },
  {
   "cell_type": "markdown",
   "metadata": {},
   "source": [
    "I will now implement test cases for a custom sum function in the \"Project\" folder located within this directory\n",
    "\n",
    "**M05 Files --> Project**"
   ]
  },
  {
   "cell_type": "markdown",
   "metadata": {},
   "source": [
    "Upon execution of the test file \"test_case_2.py\", the unittest module provided output via the terminal window.\n",
    "\n",
    "The first line of output was an \"F\" character followed by a \".\" character. These indicated that one failed (F) and one passed (.).\n",
    "\n",
    "The next entry in the output indicates the specific test method that failed which was test_list_fraction.\n",
    "\n",
    "It then provides a traceback to which line of code failed within the file.\n",
    "\n",
    "It also provides the details regarding why the assertion failed. In this case, an AssertionError was raised because the summation of (1/4, 1/4, 2/5) did not equal 1, but 9/10.\n",
    "\n",
    "Lastly, the output gives the total amount of tests that were run, being 2, and the amount of time it took to run them, being 0.001s."
   ]
  }
 ],
 "metadata": {
  "kernelspec": {
   "display_name": "Python 3",
   "language": "python",
   "name": "python3"
  },
  "language_info": {
   "codemirror_mode": {
    "name": "ipython",
    "version": 3
   },
   "file_extension": ".py",
   "mimetype": "text/x-python",
   "name": "python",
   "nbconvert_exporter": "python",
   "pygments_lexer": "ipython3",
   "version": "3.11.5"
  },
  "orig_nbformat": 4
 },
 "nbformat": 4,
 "nbformat_minor": 2
}
